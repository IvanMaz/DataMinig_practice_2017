{
 "cells": [
  {
   "cell_type": "markdown",
   "metadata": {},
   "source": [
    "# Алгоритмы интеллектуальной обработки больших объемов данных\n",
    "## Домашнее задание №4: Линейные модели\n"
   ]
  },
  {
   "cell_type": "markdown",
   "metadata": {},
   "source": [
    "###### <hr\\>\n",
    "**Общая информация**\n",
    "\n",
    "**Срок сдачи:** 6 декабря 2017, 06:00 <br\\>\n",
    "**Штраф за опоздание:** -2 балла после 06:00 6 декабря, -4 балла после 06:00 13 декабря, -6 баллов после 06:00 20 декабря\n",
    "\n",
    "При отправлении ДЗ указывайте фамилию в названии файла<br\\>\n",
    "\n",
    "Используйте данный Ipython Notebook при оформлении домашнего задания.\n",
    "<hr\\>"
   ]
  },
  {
   "cell_type": "code",
   "execution_count": 1,
   "metadata": {
    "collapsed": true
   },
   "outputs": [],
   "source": [
    "import pandas as pd\n",
    "import numpy as np\n",
    "import matplotlib.pyplot as plt\n",
    "\n",
    "%matplotlib inline\n",
    "\n",
    "plt.style.use('ggplot')\n",
    "plt.rcParams['figure.figsize'] = (12,5)"
   ]
  },
  {
   "cell_type": "markdown",
   "metadata": {},
   "source": [
    "# Определям, что вам досталось"
   ]
  },
  {
   "cell_type": "markdown",
   "metadata": {},
   "source": [
    "<center><img src='https://static1.squarespace.com/static/571a6e39b6aa608067028725/t/577988518419c2d62fb5922f/1467582555915/'></center>"
   ]
  },
  {
   "cell_type": "markdown",
   "metadata": {},
   "source": [
    "Укажите свою фамилию на русском языке в поле ниже."
   ]
  },
  {
   "cell_type": "code",
   "execution_count": 2,
   "metadata": {},
   "outputs": [
    {
     "name": "stdout",
     "output_type": "stream",
     "text": [
      "Имплементируйте обучение логистической регрессии с L2 регуляризацией с помощью метода Mini Batch Stochastic Gradient Descent (SGD)\n"
     ]
    }
   ],
   "source": [
    "USER_NAME = u\"Мажаров\".lower()\n",
    "REGULARIZATIONS = [\"L1\", \"L2\"]\n",
    "ALGORITHM = [\"\", \"Mini Batch\"]\n",
    "\n",
    "print \"Имплементируйте обучение логистической регрессии с %s регуляризацией с помощью метода %s Stochastic Gradient Descent (SGD)\"\\\n",
    "% (\n",
    "    REGULARIZATIONS[hash(USER_NAME) % 2],\n",
    "    ALGORITHM[hash(USER_NAME[::-1]) % 2]\n",
    ")"
   ]
  },
  {
   "cell_type": "markdown",
   "metadata": {},
   "source": [
    "#### Замечания\n",
    "* В SGD градиент расчитывается по одному случайному объекту, т.е. в алгоритме надо\n",
    "    * Перемешать выборку\n",
    "    * Посчтитать градиент на одном объекте\n",
    "    * Сделать шаг спуска\n",
    "* В Mini Batch SGD - по подвыборке объектов т.е в алгоритме надо\n",
    "    * Перемешать выборку\n",
    "    * Разбить на части (примерно) одинакового размера - мини батчи\n",
    "    * Почитать градиент по мини батчам\n",
    "    * Сделать шаг спуска\n",
    "* Сделайте убывающую скорость спуска, например `alpha/n_epoch` или `alpha/n_iter` или `alpha/n_batch` или ...\n",
    "* Для отладки работы алгоритма, реализуйте возможность сохранения или вывода ошибки модели после очередной итерации/батча/эпохи.\n",
    "* Правило останова - максимальное количество эпох\n",
    "    \n",
    "Эпохой в SGD и MB-SGD называется один проход по **всем** объектам в обучающей выборке (тем или иным способом)"
   ]
  },
  {
   "cell_type": "markdown",
   "metadata": {},
   "source": [
    "### Примечание для случая L1-регуляризации:\n",
    "\n",
    "При расчете производной по функции потерь\n",
    "$$ L(w_0,w_1,\\dots) = - \\frac{1}{N}\\left[\\sum_i \\log(\\sigma(y^{(i)} g(x^{(i)}))\\right] + \\frac{1}{C}\\sum_{j=1}^{m}|w_j| $$\n",
    "могут возникнуть сомнения по поводу производной части с модулями. \n",
    "\n",
    "Вам на выбор предлагаются следующией варианты:\n",
    "* Считать субградиент $\\partial|w_j| = sign(w_j)$ (проще, но с большой вероятностью не приведет к занулению коэффициентов)\n",
    "* Метод SGD-Clipping из [статьи](https://www.aclweb.org/anthology/P/P09/P09-1054.pdf) - раздел 3.1, страница 479, правая колонка снизу (чуть сложнее, но зато должно занулять)\n",
    "* Cumulative Penalty из той же [статьи](https://www.aclweb.org/anthology/P/P09/P09-1054.pdf) - раздел 3.2"
   ]
  },
  {
   "cell_type": "markdown",
   "metadata": {},
   "source": [
    "# Реализация модели"
   ]
  },
  {
   "cell_type": "markdown",
   "metadata": {},
   "source": [
    "## Вывод правила обновления весов (1 балл)\n",
    "\n",
    "Выведите правило обновления весов на каждом шаге алгоритма. Иными словами, посчитайте производную (градиент) функции потерь с регуляризацией. Формулы надо оформлять в формате LaTeX.\n",
    "\n",
    "$$ \\frac{\\partial L}{\\partial w} = \\frac{\\sum_i \\log(1 + e^{-y^{(i)} \\langle w, x^{(j)}\\rangle} + \\frac{1}{C}\\sum_i w_i^{2}}{\\partial w} = \\sum_i{\\frac{-y^{(i)}x^{(i)}}{1 + e^{y\\langle w, x^{(i)} \\rangle}}} + \\frac{2}{C}\\sum_i w_i$$"
   ]
  },
  {
   "cell_type": "markdown",
   "metadata": {},
   "source": [
    "## Имплементация (5 баллов)"
   ]
  },
  {
   "cell_type": "code",
   "execution_count": 3,
   "metadata": {},
   "outputs": [],
   "source": [
    "from sklearn.base import BaseEstimator, ClassifierMixin\n",
    "\n",
    "class MySGDClassifier(BaseEstimator, ClassifierMixin):\n",
    "    \"\"\"\n",
    "    Предполагается, что в выборке всегда 2 класса\n",
    "    \"\"\"\n",
    "    \n",
    "    def __init__(self, C=1, alpha=0.01, max_epoch=10, batch_size=100):\n",
    "        \"\"\"\n",
    "        C - коэф. регуляризации\n",
    "        alpha - скорость спуска\n",
    "        max_epoch - максимальное количество эпох\n",
    "        \"\"\"\n",
    "        \n",
    "        self.C = C\n",
    "        self.alpha = alpha\n",
    "        self.max_epoch = max_epoch\n",
    "        self.batch_size = batch_size\n",
    "    \n",
    "    def fit(self, X, y=None):\n",
    "        #Обучение модели\n",
    "        \n",
    "        #Массивы коэфициентов и ошибок на каждой эпохе\n",
    "        n_samples, n_features = X.shape\n",
    "        self.coef = np.ones(n_features+1)\n",
    "        self.errors = np.empty(self.max_epoch)\n",
    "        \n",
    "        #Дополнительный столбец для свободного коэффициента\n",
    "        X = np.hstack((np.ones((n_samples, 1)), X))\n",
    "        #Приводим значения класса к -1, +1\n",
    "        y = (y-0.5)*2\n",
    "        \n",
    "        for epoch in range(self.max_epoch):\n",
    "            #Массивы батчей\n",
    "            inds = np.random.permutation(np.arange(X.shape[0]))\n",
    "            Xb = np.array([X[inds[i:i + self.batch_size]] for i in range(0, X.shape[0], self.batch_size)])\n",
    "            yb = np.array([y[inds[i:i + self.batch_size]] for i in range(0, X.shape[0], self.batch_size)])\n",
    "\n",
    "            for i in xrange(Xb.shape[0]):\n",
    "                #Предсказание класса\n",
    "                predict = Xb[i].dot(self.coef)\n",
    "                margin = yb[i]*predict\n",
    "                \n",
    "                #Вычисление градиента - производной от функции потерь\n",
    "                grad = - (Xb[i].T).dot(yb[i]/(1 + np.e**margin)) + 2./self.C*self.coef\n",
    "                #Обновление коэффициентов\n",
    "                self.coef = self.coef - self.alpha / (1 + epoch) * grad\n",
    "            \n",
    "            self.errors[epoch] = np.sum(np.log(1 + np.e**(-y*X.dot(self.coef)))) \n",
    "            \n",
    "        return self\n",
    "    \n",
    "    def partial_fit(self, X, y=None):\n",
    "        #По желанию - метод дообучения модели на новых данных\n",
    "        \n",
    "        return self\n",
    "        \n",
    "    def predict(self, X):\n",
    "        #Возвращение метки класса\n",
    "        X = np.hstack((np.ones((X.shape[0], 1)), X))\n",
    "        y_hat = np.sign(X.dot(self.coef))/2+0.5\n",
    "        \n",
    "        return y_hat\n",
    "    \n",
    "    def predict_proba(self, X):\n",
    "        #Возвращение вероятности каждого из классов\n",
    "        \n",
    "        return y_hat_proba"
   ]
  },
  {
   "cell_type": "markdown",
   "metadata": {},
   "source": [
    "## Проверка на синтетических данных (1 балл)"
   ]
  },
  {
   "cell_type": "markdown",
   "metadata": {},
   "source": [
    "Запустите ваш алгоритм на синтетических данных. \n",
    "Выведите полученные веса и нарисуйте разделяющую границу между классами."
   ]
  },
  {
   "cell_type": "code",
   "execution_count": 4,
   "metadata": {},
   "outputs": [
    {
     "data": {
      "text/plain": [
       "<matplotlib.collections.PathCollection at 0xc48a518>"
      ]
     },
     "execution_count": 4,
     "metadata": {},
     "output_type": "execute_result"
    },
    {
     "data": {
      "image/png": "[encoded data removed]",
      "text/plain": [
       "<matplotlib.figure.Figure at 0x6a34e80>"
      ]
     },
     "metadata": {},
     "output_type": "display_data"
    }
   ],
   "source": [
    "np.random.seed(0)\n",
    "\n",
    "C1 = np.array([[0., -0.8], [1.5, 0.8]])\n",
    "C2 = np.array([[1., -0.7], [2., 0.7]])\n",
    "gauss1 = np.dot(np.random.randn(200, 2) + np.array([5, 3]), C1)\n",
    "gauss2 = np.dot(np.random.randn(200, 2) + np.array([1.5, 0]), C2)\n",
    "\n",
    "X = np.vstack([gauss1, gauss2])\n",
    "y = np.r_[np.ones(200), np.zeros(200)]\n",
    "\n",
    "plt.scatter(X[:,0], X[:,1], c=y)"
   ]
  },
  {
   "cell_type": "code",
   "execution_count": 5,
   "metadata": {},
   "outputs": [
    {
     "data": {
      "text/plain": [
       "MySGDClassifier(C=100, alpha=0.04, batch_size=32, max_epoch=40)"
      ]
     },
     "execution_count": 5,
     "metadata": {},
     "output_type": "execute_result"
    }
   ],
   "source": [
    "model = MySGDClassifier(max_epoch=40, C=100, batch_size=32, alpha=0.04)\n",
    "model.fit(X, y)"
   ]
  },
  {
   "cell_type": "code",
   "execution_count": 6,
   "metadata": {},
   "outputs": [
    {
     "data": {
      "text/plain": [
       "[<matplotlib.lines.Line2D at 0xe1b14e0>]"
      ]
     },
     "execution_count": 6,
     "metadata": {},
     "output_type": "execute_result"
    },
    {
     "data": {
      "image/png": "[encoded data removed]",
      "text/plain": [
       "<matplotlib.figure.Figure at 0xc312f98>"
      ]
     },
     "metadata": {},
     "output_type": "display_data"
    }
   ],
   "source": [
    "coef = model.coef\n",
    "plt.scatter(X[:,0], X[:,1], c=y)\n",
    "x = np.arange(-0.5, 6.5, 1)\n",
    "plt.plot(x, -coef[1]/coef[2]*x - coef[0]/coef[2])"
   ]
  },
  {
   "cell_type": "markdown",
   "metadata": {},
   "source": [
    "## Анализ сходимости (2 балла)"
   ]
  },
  {
   "cell_type": "markdown",
   "metadata": {},
   "source": [
    "Для следующих заданий используйте датасет ниже"
   ]
  },
  {
   "cell_type": "code",
   "execution_count": 7,
   "metadata": {
    "collapsed": true
   },
   "outputs": [],
   "source": [
    "from sklearn.datasets import make_classification"
   ]
  },
  {
   "cell_type": "code",
   "execution_count": 8,
   "metadata": {
    "collapsed": true
   },
   "outputs": [],
   "source": [
    "X, y = make_classification(n_samples=100000, n_features=10, \n",
    "                           n_informative=4, n_redundant=0, \n",
    "                           random_state=123, class_sep=1.0,\n",
    "                           n_clusters_per_class=1)"
   ]
  },
  {
   "cell_type": "markdown",
   "metadata": {},
   "source": [
    "Покажите сходимость вашего метода: изобразите графики зависимости значения функции потерь (по всей выборке) после очередной итерации/батча/эпохи (выбрать одно) для разных `alpha`."
   ]
  },
  {
   "cell_type": "code",
   "execution_count": 9,
   "metadata": {},
   "outputs": [
    {
     "data": {
      "text/plain": [
       "<matplotlib.legend.Legend at 0x11abc320>"
      ]
     },
     "execution_count": 9,
     "metadata": {},
     "output_type": "execute_result"
    },
    {
     "data": {
      "image/png": "[encoded data removed]",
      "text/plain": [
       "<matplotlib.figure.Figure at 0xea3a588>"
      ]
     },
     "metadata": {},
     "output_type": "display_data"
    }
   ],
   "source": [
    "## Your Code Here\n",
    "model = MySGDClassifier(C=100, alpha=0.01)\n",
    "model.fit(X, y)\n",
    "err_1 = model.errors\n",
    "\n",
    "model = MySGDClassifier(C=100, alpha=0.1)\n",
    "model.fit(X, y)\n",
    "err_2 = model.errors\n",
    "\n",
    "model = MySGDClassifier(C=100, alpha=0.2)\n",
    "model.fit(X, y)\n",
    "err_3 = model.errors\n",
    "\n",
    "plt.plot(range(err_1.shape[0]), err_1, label='aplpha = 0.01')\n",
    "plt.plot(range(err_2.shape[0]), err_2, label='aplpha = 0.1')\n",
    "plt.plot(range(err_3.shape[0]), err_3, label='aplpha = 0.2')\n",
    "plt.legend()"
   ]
  },
  {
   "cell_type": "markdown",
   "metadata": {},
   "source": [
    "## Эффект регуляризации (2 балла)\n",
    "\n",
    "Изобразите значения коэффициентов модели для каждого С из `np.logspace(3, -3, 10)` (желательно на одном и том же графике)"
   ]
  },
  {
   "cell_type": "code",
   "execution_count": 10,
   "metadata": {},
   "outputs": [
    {
     "name": "stderr",
     "output_type": "stream",
     "text": [
      "C:\\Users\\Ivan\\Anaconda2\\lib\\site-packages\\ipykernel_launcher.py:49: RuntimeWarning: overflow encountered in power\n"
     ]
    },
    {
     "data": {
      "image/png": "[encoded data removed]",
      "text/plain": [
       "<matplotlib.figure.Figure at 0xe1e62b0>"
      ]
     },
     "metadata": {},
     "output_type": "display_data"
    }
   ],
   "source": [
    "## Your Code Here\n",
    "coef = []\n",
    "for C in np.logspace(3, -3, 10):\n",
    "    model = MySGDClassifier(C=C, alpha=0.001)\n",
    "    model.fit(X, y)\n",
    "    coef.append(model.coef)\n",
    "\n",
    "coef = np.array(coef)\n",
    "for idx in range(10):\n",
    "    plt.plot(np.logspace(3,-3, 10), coef[:,idx], label='w'+str(idx))\n",
    "plt.legend()\n",
    "plt.xscale('log')"
   ]
  },
  {
   "cell_type": "markdown",
   "metadata": {},
   "source": [
    "# Боевое применение"
   ]
  },
  {
   "cell_type": "markdown",
   "metadata": {},
   "source": [
    "## О hearthstone"
   ]
  },
  {
   "cell_type": "markdown",
   "metadata": {},
   "source": [
    "[Hearthstone](http://eu.battle.net/hearthstone/ru/) - карточная он-лайн игра по мотивам вселенной Warcraft.\n",
    "\n",
    "Каждый игрок играет за персонажа определенного класса и собирает колоду карт которую может разыгрывать во время игры. Для дальнейших деталей обратитесь к [wiki](https://ru.wikipedia.org/wiki/Hearthstone), посмотрите youtube или поиграйте сами (но не долго =) ).\n",
    "\n",
    "Теми или иными способами игрок может отнимать жизни у своего оппонента, таким образом цель раунда - побить другого игрока."
   ]
  },
  {
   "cell_type": "markdown",
   "metadata": {},
   "source": [
    "<center><img src='http://ps3hits.ru/wp-content/uploads/2015/08/hearthstone-game-sshot-1.jpg'></center>"
   ]
  },
  {
   "cell_type": "markdown",
   "metadata": {},
   "source": [
    "## Постановка задачи"
   ]
  },
  {
   "cell_type": "markdown",
   "metadata": {},
   "source": [
    "В рамках конференции [AAIA 17](https://fedcsis.org/2017/aaia) было запущено [соревнование](https://knowledgepit.fedcsis.org/contest/view.php?id=120) по предсказанию исхода раунда в heartstone. \n",
    "\n",
    "Используя признаки, которые описывают текущее состояние раунда необходимо предсказать **вероятность** победы игрока в этом раунде.\n",
    "\n",
    "Качество модели измеряется с помощью **ROC-AUC**"
   ]
  },
  {
   "cell_type": "markdown",
   "metadata": {},
   "source": [
    "## Данные\n",
    "\n",
    "Обучающую выборку и тестовую выборку с ответами можно скачать [отсюда](https://cloud.mail.ru/public/BEon/4Rrdqqvng)\n",
    "\n",
    "Данные содержат набор информации о раунде в некоторый момент времени: жизни игрока и оппонента, номер хода, карты на столе, карты в руке игрока, количество карт в руке оппонента и тп.<br/>\n",
    "По игроку №1 (далее просто **игрок**) помимо всего прочего известен набор карт \"в руке\".</br>\n",
    "По игроку №2 (далее просто **оппонент**) эта информация отсутствует.</br>\n",
    "\n",
    "\n",
    "В данных для обучению содержится 2 млн. игр, разбитых на 4 файла. Названия признаков говорят сами за себя.\n",
    "Целевой признак - `decision` (1 - победил игрок, 0 - победил оппонент)."
   ]
  },
  {
   "cell_type": "markdown",
   "metadata": {},
   "source": [
    "## Работа с простыми табличными данными (1 балл)\n",
    "\n",
    "По соображениям сокращения времени вычислений, проделаем основные шаги по одной части данных.\n",
    "\n",
    "Если все данные не будут помещаться вам с оперативную память, то можете использовать один из 4х файлов для обучения"
   ]
  },
  {
   "cell_type": "code",
   "execution_count": 12,
   "metadata": {
    "collapsed": true
   },
   "outputs": [],
   "source": [
    "# Загрузка данных целиком\n",
    "df_list = []\n",
    "for chunk in range(1,5):\n",
    "    filepath = './trainingData_tabular_chunk%d.csv' % chunk\n",
    "    df_list.append(pd.read_csv(filepath, sep=','))\n",
    "df_data = pd.concat(df_list)\n",
    "\n",
    "# Загрузка одной части данных\n",
    "#filepath = './trainingData_tabular_chunk1.csv'\n",
    "#df_data = pd.read_csv(filepath, sep=',')"
   ]
  },
  {
   "cell_type": "code",
   "execution_count": 13,
   "metadata": {},
   "outputs": [
    {
     "data": {
      "text/plain": [
       "(2000000, 45)"
      ]
     },
     "execution_count": 13,
     "metadata": {},
     "output_type": "execute_result"
    }
   ],
   "source": [
    "df_data.shape"
   ]
  },
  {
   "cell_type": "code",
   "execution_count": 14,
   "metadata": {
    "collapsed": true
   },
   "outputs": [],
   "source": [
    "# для удобства\n",
    "df_data.columns = df_data.columns.str.replace('.', '_')\n",
    "df_data = df_data.set_index('gamestate_id')"
   ]
  },
  {
   "cell_type": "code",
   "execution_count": 15,
   "metadata": {},
   "outputs": [
    {
     "data": {
      "text/html": [
       "<div>\n",
       "<style>\n",
       "    .dataframe thead tr:only-child th {\n",
       "        text-align: right;\n",
       "    }\n",
       "\n",
       "    .dataframe thead th {\n",
       "        text-align: left;\n",
       "    }\n",
       "\n",
       "    .dataframe tbody tr th {\n",
       "        vertical-align: top;\n",
       "    }\n",
       "</style>\n",
       "<table border=\"1\" class=\"dataframe\">\n",
       "  <thead>\n",
       "    <tr style=\"text-align: right;\">\n",
       "      <th></th>\n",
       "      <th>decision</th>\n",
       "      <th>turn</th>\n",
       "      <th>opponent_armor</th>\n",
       "      <th>opponent_attack</th>\n",
       "      <th>opponent_hero_card_id</th>\n",
       "      <th>opponent_hp</th>\n",
       "      <th>opponent_special_skill_used</th>\n",
       "      <th>opponent_weapon_durability</th>\n",
       "      <th>opponent_crystals_all</th>\n",
       "      <th>opponent_crystals_current</th>\n",
       "      <th>...</th>\n",
       "      <th>player_played_hp_current</th>\n",
       "      <th>player_played_hp_max</th>\n",
       "      <th>player_hand_nOfMinions</th>\n",
       "      <th>player_hand_nOfSpells</th>\n",
       "      <th>player_hand_nOfWeapons</th>\n",
       "      <th>player_hand_nOfCards</th>\n",
       "      <th>player_hand_nOfPlayable</th>\n",
       "      <th>player_hand_attack</th>\n",
       "      <th>player_hand_crystals_cost</th>\n",
       "      <th>player_hand_hp</th>\n",
       "    </tr>\n",
       "    <tr>\n",
       "      <th>gamestate_id</th>\n",
       "      <th></th>\n",
       "      <th></th>\n",
       "      <th></th>\n",
       "      <th></th>\n",
       "      <th></th>\n",
       "      <th></th>\n",
       "      <th></th>\n",
       "      <th></th>\n",
       "      <th></th>\n",
       "      <th></th>\n",
       "      <th></th>\n",
       "      <th></th>\n",
       "      <th></th>\n",
       "      <th></th>\n",
       "      <th></th>\n",
       "      <th></th>\n",
       "      <th></th>\n",
       "      <th></th>\n",
       "      <th></th>\n",
       "      <th></th>\n",
       "      <th></th>\n",
       "    </tr>\n",
       "  </thead>\n",
       "  <tbody>\n",
       "    <tr>\n",
       "      <th>4687346.0</th>\n",
       "      <td>1</td>\n",
       "      <td>14</td>\n",
       "      <td>0</td>\n",
       "      <td>0</td>\n",
       "      <td>798</td>\n",
       "      <td>5</td>\n",
       "      <td>0</td>\n",
       "      <td>0</td>\n",
       "      <td>10</td>\n",
       "      <td>10</td>\n",
       "      <td>...</td>\n",
       "      <td>20</td>\n",
       "      <td>23</td>\n",
       "      <td>4</td>\n",
       "      <td>0</td>\n",
       "      <td>1</td>\n",
       "      <td>5</td>\n",
       "      <td>0</td>\n",
       "      <td>20</td>\n",
       "      <td>22</td>\n",
       "      <td>17</td>\n",
       "    </tr>\n",
       "    <tr>\n",
       "      <th>3270826.0</th>\n",
       "      <td>1</td>\n",
       "      <td>7</td>\n",
       "      <td>0</td>\n",
       "      <td>0</td>\n",
       "      <td>754</td>\n",
       "      <td>22</td>\n",
       "      <td>0</td>\n",
       "      <td>0</td>\n",
       "      <td>6</td>\n",
       "      <td>6</td>\n",
       "      <td>...</td>\n",
       "      <td>16</td>\n",
       "      <td>17</td>\n",
       "      <td>3</td>\n",
       "      <td>2</td>\n",
       "      <td>2</td>\n",
       "      <td>7</td>\n",
       "      <td>0</td>\n",
       "      <td>17</td>\n",
       "      <td>26</td>\n",
       "      <td>20</td>\n",
       "    </tr>\n",
       "    <tr>\n",
       "      <th>3189487.0</th>\n",
       "      <td>1</td>\n",
       "      <td>5</td>\n",
       "      <td>3</td>\n",
       "      <td>0</td>\n",
       "      <td>612</td>\n",
       "      <td>29</td>\n",
       "      <td>0</td>\n",
       "      <td>0</td>\n",
       "      <td>4</td>\n",
       "      <td>1</td>\n",
       "      <td>...</td>\n",
       "      <td>0</td>\n",
       "      <td>0</td>\n",
       "      <td>5</td>\n",
       "      <td>0</td>\n",
       "      <td>0</td>\n",
       "      <td>5</td>\n",
       "      <td>2</td>\n",
       "      <td>26</td>\n",
       "      <td>28</td>\n",
       "      <td>27</td>\n",
       "    </tr>\n",
       "    <tr>\n",
       "      <th>4098946.0</th>\n",
       "      <td>1</td>\n",
       "      <td>8</td>\n",
       "      <td>0</td>\n",
       "      <td>0</td>\n",
       "      <td>390</td>\n",
       "      <td>26</td>\n",
       "      <td>0</td>\n",
       "      <td>0</td>\n",
       "      <td>7</td>\n",
       "      <td>7</td>\n",
       "      <td>...</td>\n",
       "      <td>2</td>\n",
       "      <td>2</td>\n",
       "      <td>7</td>\n",
       "      <td>1</td>\n",
       "      <td>1</td>\n",
       "      <td>9</td>\n",
       "      <td>9</td>\n",
       "      <td>36</td>\n",
       "      <td>44</td>\n",
       "      <td>36</td>\n",
       "    </tr>\n",
       "    <tr>\n",
       "      <th>2661127.0</th>\n",
       "      <td>0</td>\n",
       "      <td>13</td>\n",
       "      <td>0</td>\n",
       "      <td>0</td>\n",
       "      <td>25</td>\n",
       "      <td>30</td>\n",
       "      <td>0</td>\n",
       "      <td>0</td>\n",
       "      <td>10</td>\n",
       "      <td>1</td>\n",
       "      <td>...</td>\n",
       "      <td>7</td>\n",
       "      <td>7</td>\n",
       "      <td>4</td>\n",
       "      <td>0</td>\n",
       "      <td>0</td>\n",
       "      <td>4</td>\n",
       "      <td>4</td>\n",
       "      <td>13</td>\n",
       "      <td>13</td>\n",
       "      <td>14</td>\n",
       "    </tr>\n",
       "  </tbody>\n",
       "</table>\n",
       "<p>5 rows × 44 columns</p>\n",
       "</div>"
      ],
      "text/plain": [
       "              decision  turn  opponent_armor  opponent_attack  \\\n",
       "gamestate_id                                                    \n",
       "4687346.0            1    14               0                0   \n",
       "3270826.0            1     7               0                0   \n",
       "3189487.0            1     5               3                0   \n",
       "4098946.0            1     8               0                0   \n",
       "2661127.0            0    13               0                0   \n",
       "\n",
       "              opponent_hero_card_id  opponent_hp  opponent_special_skill_used  \\\n",
       "gamestate_id                                                                    \n",
       "4687346.0                       798            5                            0   \n",
       "3270826.0                       754           22                            0   \n",
       "3189487.0                       612           29                            0   \n",
       "4098946.0                       390           26                            0   \n",
       "2661127.0                        25           30                            0   \n",
       "\n",
       "              opponent_weapon_durability  opponent_crystals_all  \\\n",
       "gamestate_id                                                      \n",
       "4687346.0                              0                     10   \n",
       "3270826.0                              0                      6   \n",
       "3189487.0                              0                      4   \n",
       "4098946.0                              0                      7   \n",
       "2661127.0                              0                     10   \n",
       "\n",
       "              opponent_crystals_current       ...        \\\n",
       "gamestate_id                                  ...         \n",
       "4687346.0                            10       ...         \n",
       "3270826.0                             6       ...         \n",
       "3189487.0                             1       ...         \n",
       "4098946.0                             7       ...         \n",
       "2661127.0                             1       ...         \n",
       "\n",
       "              player_played_hp_current  player_played_hp_max  \\\n",
       "gamestate_id                                                   \n",
       "4687346.0                           20                    23   \n",
       "3270826.0                           16                    17   \n",
       "3189487.0                            0                     0   \n",
       "4098946.0                            2                     2   \n",
       "2661127.0                            7                     7   \n",
       "\n",
       "              player_hand_nOfMinions  player_hand_nOfSpells  \\\n",
       "gamestate_id                                                  \n",
       "4687346.0                          4                      0   \n",
       "3270826.0                          3                      2   \n",
       "3189487.0                          5                      0   \n",
       "4098946.0                          7                      1   \n",
       "2661127.0                          4                      0   \n",
       "\n",
       "              player_hand_nOfWeapons  player_hand_nOfCards  \\\n",
       "gamestate_id                                                 \n",
       "4687346.0                          1                     5   \n",
       "3270826.0                          2                     7   \n",
       "3189487.0                          0                     5   \n",
       "4098946.0                          1                     9   \n",
       "2661127.0                          0                     4   \n",
       "\n",
       "              player_hand_nOfPlayable  player_hand_attack  \\\n",
       "gamestate_id                                                \n",
       "4687346.0                           0                  20   \n",
       "3270826.0                           0                  17   \n",
       "3189487.0                           2                  26   \n",
       "4098946.0                           9                  36   \n",
       "2661127.0                           4                  13   \n",
       "\n",
       "              player_hand_crystals_cost  player_hand_hp  \n",
       "gamestate_id                                             \n",
       "4687346.0                            22              17  \n",
       "3270826.0                            26              20  \n",
       "3189487.0                            28              27  \n",
       "4098946.0                            44              36  \n",
       "2661127.0                            13              14  \n",
       "\n",
       "[5 rows x 44 columns]"
      ]
     },
     "execution_count": 15,
     "metadata": {},
     "output_type": "execute_result"
    }
   ],
   "source": [
    "df_data.head()"
   ]
  },
  {
   "cell_type": "code",
   "execution_count": 16,
   "metadata": {},
   "outputs": [
    {
     "data": {
      "text/plain": [
       "0.5047995"
      ]
     },
     "execution_count": 16,
     "metadata": {},
     "output_type": "execute_result"
    }
   ],
   "source": [
    "# Распределение классов\n",
    "df_data.decision.mean()\n",
    "\n",
    "# Примерно поровну"
   ]
  },
  {
   "cell_type": "markdown",
   "metadata": {},
   "source": [
    "#### Задание\n",
    "\n",
    "* Определите количество уникальных карт героя у игрока и оппонента.\n",
    "* Преобразуйте категориальные переменные с помощью one-hot кодирования, добавьте к датасету и удалите прежние столбцы\n"
   ]
  },
  {
   "cell_type": "code",
   "execution_count": 17,
   "metadata": {},
   "outputs": [
    {
     "data": {
      "text/plain": [
       "9"
      ]
     },
     "execution_count": 17,
     "metadata": {},
     "output_type": "execute_result"
    }
   ],
   "source": [
    "## Youd Code Here\n",
    "n_unique = df_data.player_hero_card_id.nunique()\n",
    "n_unique"
   ]
  },
  {
   "cell_type": "code",
   "execution_count": 18,
   "metadata": {},
   "outputs": [],
   "source": [
    "cols_to_transform = ['opponent_hero_card_id', 'player_hero_card_id']\n",
    "df_data_hot = pd.get_dummies(df_data, columns=cols_to_transform)"
   ]
  },
  {
   "cell_type": "code",
   "execution_count": 19,
   "metadata": {},
   "outputs": [
    {
     "data": {
      "text/html": [
       "<div>\n",
       "<style>\n",
       "    .dataframe thead tr:only-child th {\n",
       "        text-align: right;\n",
       "    }\n",
       "\n",
       "    .dataframe thead th {\n",
       "        text-align: left;\n",
       "    }\n",
       "\n",
       "    .dataframe tbody tr th {\n",
       "        vertical-align: top;\n",
       "    }\n",
       "</style>\n",
       "<table border=\"1\" class=\"dataframe\">\n",
       "  <thead>\n",
       "    <tr style=\"text-align: right;\">\n",
       "      <th></th>\n",
       "      <th>decision</th>\n",
       "      <th>turn</th>\n",
       "      <th>opponent_armor</th>\n",
       "      <th>opponent_attack</th>\n",
       "      <th>opponent_hp</th>\n",
       "      <th>opponent_special_skill_used</th>\n",
       "      <th>opponent_weapon_durability</th>\n",
       "      <th>opponent_crystals_all</th>\n",
       "      <th>opponent_crystals_current</th>\n",
       "      <th>opponent_deck_count</th>\n",
       "      <th>...</th>\n",
       "      <th>opponent_hero_card_id_1235</th>\n",
       "      <th>player_hero_card_id_25</th>\n",
       "      <th>player_hero_card_id_326</th>\n",
       "      <th>player_hero_card_id_390</th>\n",
       "      <th>player_hero_card_id_494</th>\n",
       "      <th>player_hero_card_id_612</th>\n",
       "      <th>player_hero_card_id_754</th>\n",
       "      <th>player_hero_card_id_798</th>\n",
       "      <th>player_hero_card_id_981</th>\n",
       "      <th>player_hero_card_id_1235</th>\n",
       "    </tr>\n",
       "    <tr>\n",
       "      <th>gamestate_id</th>\n",
       "      <th></th>\n",
       "      <th></th>\n",
       "      <th></th>\n",
       "      <th></th>\n",
       "      <th></th>\n",
       "      <th></th>\n",
       "      <th></th>\n",
       "      <th></th>\n",
       "      <th></th>\n",
       "      <th></th>\n",
       "      <th></th>\n",
       "      <th></th>\n",
       "      <th></th>\n",
       "      <th></th>\n",
       "      <th></th>\n",
       "      <th></th>\n",
       "      <th></th>\n",
       "      <th></th>\n",
       "      <th></th>\n",
       "      <th></th>\n",
       "      <th></th>\n",
       "    </tr>\n",
       "  </thead>\n",
       "  <tbody>\n",
       "    <tr>\n",
       "      <th>4687346.0</th>\n",
       "      <td>1</td>\n",
       "      <td>14</td>\n",
       "      <td>0</td>\n",
       "      <td>0</td>\n",
       "      <td>5</td>\n",
       "      <td>0</td>\n",
       "      <td>0</td>\n",
       "      <td>10</td>\n",
       "      <td>10</td>\n",
       "      <td>11</td>\n",
       "      <td>...</td>\n",
       "      <td>0</td>\n",
       "      <td>0</td>\n",
       "      <td>0</td>\n",
       "      <td>0</td>\n",
       "      <td>0</td>\n",
       "      <td>0</td>\n",
       "      <td>0</td>\n",
       "      <td>0</td>\n",
       "      <td>1</td>\n",
       "      <td>0</td>\n",
       "    </tr>\n",
       "    <tr>\n",
       "      <th>3270826.0</th>\n",
       "      <td>1</td>\n",
       "      <td>7</td>\n",
       "      <td>0</td>\n",
       "      <td>0</td>\n",
       "      <td>22</td>\n",
       "      <td>0</td>\n",
       "      <td>0</td>\n",
       "      <td>6</td>\n",
       "      <td>6</td>\n",
       "      <td>19</td>\n",
       "      <td>...</td>\n",
       "      <td>0</td>\n",
       "      <td>0</td>\n",
       "      <td>0</td>\n",
       "      <td>0</td>\n",
       "      <td>0</td>\n",
       "      <td>0</td>\n",
       "      <td>1</td>\n",
       "      <td>0</td>\n",
       "      <td>0</td>\n",
       "      <td>0</td>\n",
       "    </tr>\n",
       "    <tr>\n",
       "      <th>3189487.0</th>\n",
       "      <td>1</td>\n",
       "      <td>5</td>\n",
       "      <td>3</td>\n",
       "      <td>0</td>\n",
       "      <td>29</td>\n",
       "      <td>0</td>\n",
       "      <td>0</td>\n",
       "      <td>4</td>\n",
       "      <td>1</td>\n",
       "      <td>22</td>\n",
       "      <td>...</td>\n",
       "      <td>0</td>\n",
       "      <td>0</td>\n",
       "      <td>0</td>\n",
       "      <td>0</td>\n",
       "      <td>0</td>\n",
       "      <td>1</td>\n",
       "      <td>0</td>\n",
       "      <td>0</td>\n",
       "      <td>0</td>\n",
       "      <td>0</td>\n",
       "    </tr>\n",
       "    <tr>\n",
       "      <th>4098946.0</th>\n",
       "      <td>1</td>\n",
       "      <td>8</td>\n",
       "      <td>0</td>\n",
       "      <td>0</td>\n",
       "      <td>26</td>\n",
       "      <td>0</td>\n",
       "      <td>0</td>\n",
       "      <td>7</td>\n",
       "      <td>7</td>\n",
       "      <td>17</td>\n",
       "      <td>...</td>\n",
       "      <td>0</td>\n",
       "      <td>0</td>\n",
       "      <td>0</td>\n",
       "      <td>0</td>\n",
       "      <td>0</td>\n",
       "      <td>0</td>\n",
       "      <td>0</td>\n",
       "      <td>0</td>\n",
       "      <td>1</td>\n",
       "      <td>0</td>\n",
       "    </tr>\n",
       "    <tr>\n",
       "      <th>2661127.0</th>\n",
       "      <td>0</td>\n",
       "      <td>13</td>\n",
       "      <td>0</td>\n",
       "      <td>0</td>\n",
       "      <td>30</td>\n",
       "      <td>0</td>\n",
       "      <td>0</td>\n",
       "      <td>10</td>\n",
       "      <td>1</td>\n",
       "      <td>12</td>\n",
       "      <td>...</td>\n",
       "      <td>0</td>\n",
       "      <td>0</td>\n",
       "      <td>0</td>\n",
       "      <td>0</td>\n",
       "      <td>1</td>\n",
       "      <td>0</td>\n",
       "      <td>0</td>\n",
       "      <td>0</td>\n",
       "      <td>0</td>\n",
       "      <td>0</td>\n",
       "    </tr>\n",
       "  </tbody>\n",
       "</table>\n",
       "<p>5 rows × 60 columns</p>\n",
       "</div>"
      ],
      "text/plain": [
       "              decision  turn  opponent_armor  opponent_attack  opponent_hp  \\\n",
       "gamestate_id                                                                 \n",
       "4687346.0            1    14               0                0            5   \n",
       "3270826.0            1     7               0                0           22   \n",
       "3189487.0            1     5               3                0           29   \n",
       "4098946.0            1     8               0                0           26   \n",
       "2661127.0            0    13               0                0           30   \n",
       "\n",
       "              opponent_special_skill_used  opponent_weapon_durability  \\\n",
       "gamestate_id                                                            \n",
       "4687346.0                               0                           0   \n",
       "3270826.0                               0                           0   \n",
       "3189487.0                               0                           0   \n",
       "4098946.0                               0                           0   \n",
       "2661127.0                               0                           0   \n",
       "\n",
       "              opponent_crystals_all  opponent_crystals_current  \\\n",
       "gamestate_id                                                     \n",
       "4687346.0                        10                         10   \n",
       "3270826.0                         6                          6   \n",
       "3189487.0                         4                          1   \n",
       "4098946.0                         7                          7   \n",
       "2661127.0                        10                          1   \n",
       "\n",
       "              opponent_deck_count            ...             \\\n",
       "gamestate_id                                 ...              \n",
       "4687346.0                      11            ...              \n",
       "3270826.0                      19            ...              \n",
       "3189487.0                      22            ...              \n",
       "4098946.0                      17            ...              \n",
       "2661127.0                      12            ...              \n",
       "\n",
       "              opponent_hero_card_id_1235  player_hero_card_id_25  \\\n",
       "gamestate_id                                                       \n",
       "4687346.0                              0                       0   \n",
       "3270826.0                              0                       0   \n",
       "3189487.0                              0                       0   \n",
       "4098946.0                              0                       0   \n",
       "2661127.0                              0                       0   \n",
       "\n",
       "              player_hero_card_id_326  player_hero_card_id_390  \\\n",
       "gamestate_id                                                     \n",
       "4687346.0                           0                        0   \n",
       "3270826.0                           0                        0   \n",
       "3189487.0                           0                        0   \n",
       "4098946.0                           0                        0   \n",
       "2661127.0                           0                        0   \n",
       "\n",
       "              player_hero_card_id_494  player_hero_card_id_612  \\\n",
       "gamestate_id                                                     \n",
       "4687346.0                           0                        0   \n",
       "3270826.0                           0                        0   \n",
       "3189487.0                           0                        1   \n",
       "4098946.0                           0                        0   \n",
       "2661127.0                           1                        0   \n",
       "\n",
       "              player_hero_card_id_754  player_hero_card_id_798  \\\n",
       "gamestate_id                                                     \n",
       "4687346.0                           0                        0   \n",
       "3270826.0                           1                        0   \n",
       "3189487.0                           0                        0   \n",
       "4098946.0                           0                        0   \n",
       "2661127.0                           0                        0   \n",
       "\n",
       "              player_hero_card_id_981  player_hero_card_id_1235  \n",
       "gamestate_id                                                     \n",
       "4687346.0                           1                         0  \n",
       "3270826.0                           0                         0  \n",
       "3189487.0                           0                         0  \n",
       "4098946.0                           1                         0  \n",
       "2661127.0                           0                         0  \n",
       "\n",
       "[5 rows x 60 columns]"
      ]
     },
     "execution_count": 19,
     "metadata": {},
     "output_type": "execute_result"
    }
   ],
   "source": [
    "df_data_hot.head()"
   ]
  },
  {
   "cell_type": "markdown",
   "metadata": {},
   "source": [
    "## Обучение модели (1 балл)"
   ]
  },
  {
   "cell_type": "markdown",
   "metadata": {},
   "source": [
    "#### Задание\n",
    "\n",
    "* Получите матрицу объект признак `X` и вектор целевого признака `y`\n",
    "* Создайте Pipeline из `StandartScaller` и вашей модели\n",
    "* Обучите модель (подбирать гиперпараметры можно без фанатизма)"
   ]
  },
  {
   "cell_type": "code",
   "execution_count": 20,
   "metadata": {},
   "outputs": [
    {
     "data": {
      "text/plain": [
       "array([1, 1, 1, ..., 0, 0, 0], dtype=int64)"
      ]
     },
     "execution_count": 20,
     "metadata": {},
     "output_type": "execute_result"
    }
   ],
   "source": [
    "## Youd Code Here\n",
    "y_train = df_data_hot.decision.as_matrix()\n",
    "y_train"
   ]
  },
  {
   "cell_type": "code",
   "execution_count": 21,
   "metadata": {},
   "outputs": [
    {
     "data": {
      "text/plain": [
       "array([[14,  0,  0, ...,  0,  1,  0],\n",
       "       [ 7,  0,  0, ...,  0,  0,  0],\n",
       "       [ 5,  3,  0, ...,  0,  0,  0],\n",
       "       ..., \n",
       "       [ 4,  0,  0, ...,  0,  0,  0],\n",
       "       [12,  3,  0, ...,  0,  0,  0],\n",
       "       [ 6,  0,  0, ...,  0,  1,  0]], dtype=int64)"
      ]
     },
     "execution_count": 21,
     "metadata": {},
     "output_type": "execute_result"
    }
   ],
   "source": [
    "X_train = df_data_hot.loc[:,'turn':].as_matrix()\n",
    "X_train"
   ]
  },
  {
   "cell_type": "code",
   "execution_count": 22,
   "metadata": {},
   "outputs": [],
   "source": [
    "from sklearn.pipeline import Pipeline\n",
    "from sklearn.preprocessing import StandardScaler\n",
    "model = Pipeline([('scaler', StandardScaler()), \n",
    "                         ('log_reg', MySGDClassifier())])"
   ]
  },
  {
   "cell_type": "code",
   "execution_count": 23,
   "metadata": {},
   "outputs": [
    {
     "name": "stderr",
     "output_type": "stream",
     "text": [
      "C:\\Users\\Ivan\\Anaconda2\\lib\\site-packages\\sklearn\\utils\\validation.py:444: DataConversionWarning: Data with input dtype int64 was converted to float64 by StandardScaler.\n",
      "  warnings.warn(msg, DataConversionWarning)\n"
     ]
    },
    {
     "data": {
      "text/plain": [
       "Pipeline(memory=None,\n",
       "     steps=[('scaler', StandardScaler(copy=True, with_mean=True, with_std=True)), ('log_reg', MySGDClassifier(C=1, alpha=0.01, batch_size=100, max_epoch=10))])"
      ]
     },
     "execution_count": 23,
     "metadata": {},
     "output_type": "execute_result"
    }
   ],
   "source": [
    "model.fit(X_train, y_train)"
   ]
  },
  {
   "cell_type": "markdown",
   "metadata": {},
   "source": [
    "## Применение модели (2 балла)\n",
    "#### Задание\n",
    "* Загрузите тестовые данные\n",
    "* Подготовте их к подаче на вход в алгоритм\n",
    "* Примените модель оцените качество с помощью меры ROC-AUC\n"
   ]
  },
  {
   "cell_type": "code",
   "execution_count": 25,
   "metadata": {},
   "outputs": [],
   "source": [
    "# Загрузка данных целиком\n",
    "df_list_test = []\n",
    "for chunk in range(5,8):\n",
    "    filepath = './testData_tabular_chunk%d.csv' % chunk\n",
    "    df_list_test.append(pd.read_csv(filepath, sep=','))\n",
    "df_data_test = pd.concat(df_list_test)"
   ]
  },
  {
   "cell_type": "code",
   "execution_count": 26,
   "metadata": {},
   "outputs": [
    {
     "data": {
      "text/plain": [
       "(1250000, 45)"
      ]
     },
     "execution_count": 26,
     "metadata": {},
     "output_type": "execute_result"
    }
   ],
   "source": [
    "df_data_test.shape"
   ]
  },
  {
   "cell_type": "code",
   "execution_count": 27,
   "metadata": {
    "collapsed": true
   },
   "outputs": [],
   "source": [
    "# для удобства\n",
    "df_data_test.columns = df_data_test.columns.str.replace('.', '_')\n",
    "df_data_test = df_data_test.set_index('gamestate_id')"
   ]
  },
  {
   "cell_type": "code",
   "execution_count": 28,
   "metadata": {},
   "outputs": [
    {
     "data": {
      "text/html": [
       "<div>\n",
       "<style>\n",
       "    .dataframe thead tr:only-child th {\n",
       "        text-align: right;\n",
       "    }\n",
       "\n",
       "    .dataframe thead th {\n",
       "        text-align: left;\n",
       "    }\n",
       "\n",
       "    .dataframe tbody tr th {\n",
       "        vertical-align: top;\n",
       "    }\n",
       "</style>\n",
       "<table border=\"1\" class=\"dataframe\">\n",
       "  <thead>\n",
       "    <tr style=\"text-align: right;\">\n",
       "      <th></th>\n",
       "      <th>decision</th>\n",
       "      <th>turn</th>\n",
       "      <th>opponent_armor</th>\n",
       "      <th>opponent_attack</th>\n",
       "      <th>opponent_hero_card_id</th>\n",
       "      <th>opponent_hp</th>\n",
       "      <th>opponent_special_skill_used</th>\n",
       "      <th>opponent_weapon_durability</th>\n",
       "      <th>opponent_crystals_all</th>\n",
       "      <th>opponent_crystals_current</th>\n",
       "      <th>...</th>\n",
       "      <th>player_played_hp_current</th>\n",
       "      <th>player_played_hp_max</th>\n",
       "      <th>player_hand_nOfMinions</th>\n",
       "      <th>player_hand_nOfSpells</th>\n",
       "      <th>player_hand_nOfWeapons</th>\n",
       "      <th>player_hand_nOfCards</th>\n",
       "      <th>player_hand_nOfPlayable</th>\n",
       "      <th>player_hand_attack</th>\n",
       "      <th>player_hand_crystals_cost</th>\n",
       "      <th>player_hand_hp</th>\n",
       "    </tr>\n",
       "    <tr>\n",
       "      <th>gamestate_id</th>\n",
       "      <th></th>\n",
       "      <th></th>\n",
       "      <th></th>\n",
       "      <th></th>\n",
       "      <th></th>\n",
       "      <th></th>\n",
       "      <th></th>\n",
       "      <th></th>\n",
       "      <th></th>\n",
       "      <th></th>\n",
       "      <th></th>\n",
       "      <th></th>\n",
       "      <th></th>\n",
       "      <th></th>\n",
       "      <th></th>\n",
       "      <th></th>\n",
       "      <th></th>\n",
       "      <th></th>\n",
       "      <th></th>\n",
       "      <th></th>\n",
       "      <th></th>\n",
       "    </tr>\n",
       "  </thead>\n",
       "  <tbody>\n",
       "    <tr>\n",
       "      <th>1304374.0</th>\n",
       "      <td>NaN</td>\n",
       "      <td>5</td>\n",
       "      <td>0</td>\n",
       "      <td>0</td>\n",
       "      <td>981</td>\n",
       "      <td>23</td>\n",
       "      <td>0</td>\n",
       "      <td>0</td>\n",
       "      <td>4</td>\n",
       "      <td>0</td>\n",
       "      <td>...</td>\n",
       "      <td>5</td>\n",
       "      <td>5</td>\n",
       "      <td>2</td>\n",
       "      <td>1</td>\n",
       "      <td>0</td>\n",
       "      <td>3</td>\n",
       "      <td>1</td>\n",
       "      <td>6</td>\n",
       "      <td>11</td>\n",
       "      <td>9</td>\n",
       "    </tr>\n",
       "    <tr>\n",
       "      <th>4383331.0</th>\n",
       "      <td>NaN</td>\n",
       "      <td>9</td>\n",
       "      <td>0</td>\n",
       "      <td>3</td>\n",
       "      <td>754</td>\n",
       "      <td>16</td>\n",
       "      <td>0</td>\n",
       "      <td>1</td>\n",
       "      <td>8</td>\n",
       "      <td>3</td>\n",
       "      <td>...</td>\n",
       "      <td>9</td>\n",
       "      <td>12</td>\n",
       "      <td>3</td>\n",
       "      <td>1</td>\n",
       "      <td>0</td>\n",
       "      <td>4</td>\n",
       "      <td>4</td>\n",
       "      <td>13</td>\n",
       "      <td>14</td>\n",
       "      <td>13</td>\n",
       "    </tr>\n",
       "    <tr>\n",
       "      <th>3544947.0</th>\n",
       "      <td>NaN</td>\n",
       "      <td>16</td>\n",
       "      <td>0</td>\n",
       "      <td>0</td>\n",
       "      <td>798</td>\n",
       "      <td>16</td>\n",
       "      <td>1</td>\n",
       "      <td>0</td>\n",
       "      <td>10</td>\n",
       "      <td>2</td>\n",
       "      <td>...</td>\n",
       "      <td>20</td>\n",
       "      <td>29</td>\n",
       "      <td>0</td>\n",
       "      <td>1</td>\n",
       "      <td>0</td>\n",
       "      <td>1</td>\n",
       "      <td>0</td>\n",
       "      <td>0</td>\n",
       "      <td>5</td>\n",
       "      <td>0</td>\n",
       "    </tr>\n",
       "    <tr>\n",
       "      <th>4282915.0</th>\n",
       "      <td>NaN</td>\n",
       "      <td>3</td>\n",
       "      <td>0</td>\n",
       "      <td>0</td>\n",
       "      <td>326</td>\n",
       "      <td>30</td>\n",
       "      <td>0</td>\n",
       "      <td>0</td>\n",
       "      <td>2</td>\n",
       "      <td>2</td>\n",
       "      <td>...</td>\n",
       "      <td>0</td>\n",
       "      <td>0</td>\n",
       "      <td>3</td>\n",
       "      <td>1</td>\n",
       "      <td>0</td>\n",
       "      <td>4</td>\n",
       "      <td>0</td>\n",
       "      <td>12</td>\n",
       "      <td>12</td>\n",
       "      <td>11</td>\n",
       "    </tr>\n",
       "    <tr>\n",
       "      <th>4327924.0</th>\n",
       "      <td>NaN</td>\n",
       "      <td>5</td>\n",
       "      <td>0</td>\n",
       "      <td>0</td>\n",
       "      <td>25</td>\n",
       "      <td>30</td>\n",
       "      <td>0</td>\n",
       "      <td>0</td>\n",
       "      <td>4</td>\n",
       "      <td>1</td>\n",
       "      <td>...</td>\n",
       "      <td>1</td>\n",
       "      <td>3</td>\n",
       "      <td>2</td>\n",
       "      <td>2</td>\n",
       "      <td>0</td>\n",
       "      <td>4</td>\n",
       "      <td>0</td>\n",
       "      <td>8</td>\n",
       "      <td>15</td>\n",
       "      <td>9</td>\n",
       "    </tr>\n",
       "  </tbody>\n",
       "</table>\n",
       "<p>5 rows × 44 columns</p>\n",
       "</div>"
      ],
      "text/plain": [
       "              decision  turn  opponent_armor  opponent_attack  \\\n",
       "gamestate_id                                                    \n",
       "1304374.0          NaN     5               0                0   \n",
       "4383331.0          NaN     9               0                3   \n",
       "3544947.0          NaN    16               0                0   \n",
       "4282915.0          NaN     3               0                0   \n",
       "4327924.0          NaN     5               0                0   \n",
       "\n",
       "              opponent_hero_card_id  opponent_hp  opponent_special_skill_used  \\\n",
       "gamestate_id                                                                    \n",
       "1304374.0                       981           23                            0   \n",
       "4383331.0                       754           16                            0   \n",
       "3544947.0                       798           16                            1   \n",
       "4282915.0                       326           30                            0   \n",
       "4327924.0                        25           30                            0   \n",
       "\n",
       "              opponent_weapon_durability  opponent_crystals_all  \\\n",
       "gamestate_id                                                      \n",
       "1304374.0                              0                      4   \n",
       "4383331.0                              1                      8   \n",
       "3544947.0                              0                     10   \n",
       "4282915.0                              0                      2   \n",
       "4327924.0                              0                      4   \n",
       "\n",
       "              opponent_crystals_current       ...        \\\n",
       "gamestate_id                                  ...         \n",
       "1304374.0                             0       ...         \n",
       "4383331.0                             3       ...         \n",
       "3544947.0                             2       ...         \n",
       "4282915.0                             2       ...         \n",
       "4327924.0                             1       ...         \n",
       "\n",
       "              player_played_hp_current  player_played_hp_max  \\\n",
       "gamestate_id                                                   \n",
       "1304374.0                            5                     5   \n",
       "4383331.0                            9                    12   \n",
       "3544947.0                           20                    29   \n",
       "4282915.0                            0                     0   \n",
       "4327924.0                            1                     3   \n",
       "\n",
       "              player_hand_nOfMinions  player_hand_nOfSpells  \\\n",
       "gamestate_id                                                  \n",
       "1304374.0                          2                      1   \n",
       "4383331.0                          3                      1   \n",
       "3544947.0                          0                      1   \n",
       "4282915.0                          3                      1   \n",
       "4327924.0                          2                      2   \n",
       "\n",
       "              player_hand_nOfWeapons  player_hand_nOfCards  \\\n",
       "gamestate_id                                                 \n",
       "1304374.0                          0                     3   \n",
       "4383331.0                          0                     4   \n",
       "3544947.0                          0                     1   \n",
       "4282915.0                          0                     4   \n",
       "4327924.0                          0                     4   \n",
       "\n",
       "              player_hand_nOfPlayable  player_hand_attack  \\\n",
       "gamestate_id                                                \n",
       "1304374.0                           1                   6   \n",
       "4383331.0                           4                  13   \n",
       "3544947.0                           0                   0   \n",
       "4282915.0                           0                  12   \n",
       "4327924.0                           0                   8   \n",
       "\n",
       "              player_hand_crystals_cost  player_hand_hp  \n",
       "gamestate_id                                             \n",
       "1304374.0                            11               9  \n",
       "4383331.0                            14              13  \n",
       "3544947.0                             5               0  \n",
       "4282915.0                            12              11  \n",
       "4327924.0                            15               9  \n",
       "\n",
       "[5 rows x 44 columns]"
      ]
     },
     "execution_count": 28,
     "metadata": {},
     "output_type": "execute_result"
    }
   ],
   "source": [
    "df_data_test.head()"
   ]
  },
  {
   "cell_type": "code",
   "execution_count": 29,
   "metadata": {},
   "outputs": [
    {
     "data": {
      "text/plain": [
       "9"
      ]
     },
     "execution_count": 29,
     "metadata": {},
     "output_type": "execute_result"
    }
   ],
   "source": [
    "## Youd Code Here\n",
    "n_unique = df_data_test.player_hero_card_id.nunique()\n",
    "n_unique"
   ]
  },
  {
   "cell_type": "code",
   "execution_count": 30,
   "metadata": {
    "collapsed": true
   },
   "outputs": [],
   "source": [
    "cols_to_transform = ['opponent_hero_card_id', 'player_hero_card_id']\n",
    "df_data_hot_test = pd.get_dummies(df_data_test, columns=cols_to_transform)"
   ]
  },
  {
   "cell_type": "code",
   "execution_count": 31,
   "metadata": {},
   "outputs": [
    {
     "data": {
      "text/html": [
       "<div>\n",
       "<style>\n",
       "    .dataframe thead tr:only-child th {\n",
       "        text-align: right;\n",
       "    }\n",
       "\n",
       "    .dataframe thead th {\n",
       "        text-align: left;\n",
       "    }\n",
       "\n",
       "    .dataframe tbody tr th {\n",
       "        vertical-align: top;\n",
       "    }\n",
       "</style>\n",
       "<table border=\"1\" class=\"dataframe\">\n",
       "  <thead>\n",
       "    <tr style=\"text-align: right;\">\n",
       "      <th></th>\n",
       "      <th>decision</th>\n",
       "      <th>turn</th>\n",
       "      <th>opponent_armor</th>\n",
       "      <th>opponent_attack</th>\n",
       "      <th>opponent_hp</th>\n",
       "      <th>opponent_special_skill_used</th>\n",
       "      <th>opponent_weapon_durability</th>\n",
       "      <th>opponent_crystals_all</th>\n",
       "      <th>opponent_crystals_current</th>\n",
       "      <th>opponent_deck_count</th>\n",
       "      <th>...</th>\n",
       "      <th>opponent_hero_card_id_1235</th>\n",
       "      <th>player_hero_card_id_25</th>\n",
       "      <th>player_hero_card_id_326</th>\n",
       "      <th>player_hero_card_id_390</th>\n",
       "      <th>player_hero_card_id_494</th>\n",
       "      <th>player_hero_card_id_612</th>\n",
       "      <th>player_hero_card_id_754</th>\n",
       "      <th>player_hero_card_id_798</th>\n",
       "      <th>player_hero_card_id_981</th>\n",
       "      <th>player_hero_card_id_1235</th>\n",
       "    </tr>\n",
       "    <tr>\n",
       "      <th>gamestate_id</th>\n",
       "      <th></th>\n",
       "      <th></th>\n",
       "      <th></th>\n",
       "      <th></th>\n",
       "      <th></th>\n",
       "      <th></th>\n",
       "      <th></th>\n",
       "      <th></th>\n",
       "      <th></th>\n",
       "      <th></th>\n",
       "      <th></th>\n",
       "      <th></th>\n",
       "      <th></th>\n",
       "      <th></th>\n",
       "      <th></th>\n",
       "      <th></th>\n",
       "      <th></th>\n",
       "      <th></th>\n",
       "      <th></th>\n",
       "      <th></th>\n",
       "      <th></th>\n",
       "    </tr>\n",
       "  </thead>\n",
       "  <tbody>\n",
       "    <tr>\n",
       "      <th>1304374.0</th>\n",
       "      <td>NaN</td>\n",
       "      <td>5</td>\n",
       "      <td>0</td>\n",
       "      <td>0</td>\n",
       "      <td>23</td>\n",
       "      <td>0</td>\n",
       "      <td>0</td>\n",
       "      <td>4</td>\n",
       "      <td>0</td>\n",
       "      <td>21</td>\n",
       "      <td>...</td>\n",
       "      <td>0</td>\n",
       "      <td>0</td>\n",
       "      <td>0</td>\n",
       "      <td>0</td>\n",
       "      <td>0</td>\n",
       "      <td>1</td>\n",
       "      <td>0</td>\n",
       "      <td>0</td>\n",
       "      <td>0</td>\n",
       "      <td>0</td>\n",
       "    </tr>\n",
       "    <tr>\n",
       "      <th>4383331.0</th>\n",
       "      <td>NaN</td>\n",
       "      <td>9</td>\n",
       "      <td>0</td>\n",
       "      <td>3</td>\n",
       "      <td>16</td>\n",
       "      <td>0</td>\n",
       "      <td>1</td>\n",
       "      <td>8</td>\n",
       "      <td>3</td>\n",
       "      <td>17</td>\n",
       "      <td>...</td>\n",
       "      <td>0</td>\n",
       "      <td>0</td>\n",
       "      <td>0</td>\n",
       "      <td>0</td>\n",
       "      <td>0</td>\n",
       "      <td>0</td>\n",
       "      <td>0</td>\n",
       "      <td>1</td>\n",
       "      <td>0</td>\n",
       "      <td>0</td>\n",
       "    </tr>\n",
       "    <tr>\n",
       "      <th>3544947.0</th>\n",
       "      <td>NaN</td>\n",
       "      <td>16</td>\n",
       "      <td>0</td>\n",
       "      <td>0</td>\n",
       "      <td>16</td>\n",
       "      <td>1</td>\n",
       "      <td>0</td>\n",
       "      <td>10</td>\n",
       "      <td>2</td>\n",
       "      <td>9</td>\n",
       "      <td>...</td>\n",
       "      <td>0</td>\n",
       "      <td>1</td>\n",
       "      <td>0</td>\n",
       "      <td>0</td>\n",
       "      <td>0</td>\n",
       "      <td>0</td>\n",
       "      <td>0</td>\n",
       "      <td>0</td>\n",
       "      <td>0</td>\n",
       "      <td>0</td>\n",
       "    </tr>\n",
       "    <tr>\n",
       "      <th>4282915.0</th>\n",
       "      <td>NaN</td>\n",
       "      <td>3</td>\n",
       "      <td>0</td>\n",
       "      <td>0</td>\n",
       "      <td>30</td>\n",
       "      <td>0</td>\n",
       "      <td>0</td>\n",
       "      <td>2</td>\n",
       "      <td>2</td>\n",
       "      <td>24</td>\n",
       "      <td>...</td>\n",
       "      <td>0</td>\n",
       "      <td>0</td>\n",
       "      <td>0</td>\n",
       "      <td>0</td>\n",
       "      <td>0</td>\n",
       "      <td>0</td>\n",
       "      <td>1</td>\n",
       "      <td>0</td>\n",
       "      <td>0</td>\n",
       "      <td>0</td>\n",
       "    </tr>\n",
       "    <tr>\n",
       "      <th>4327924.0</th>\n",
       "      <td>NaN</td>\n",
       "      <td>5</td>\n",
       "      <td>0</td>\n",
       "      <td>0</td>\n",
       "      <td>30</td>\n",
       "      <td>0</td>\n",
       "      <td>0</td>\n",
       "      <td>4</td>\n",
       "      <td>1</td>\n",
       "      <td>22</td>\n",
       "      <td>...</td>\n",
       "      <td>0</td>\n",
       "      <td>0</td>\n",
       "      <td>1</td>\n",
       "      <td>0</td>\n",
       "      <td>0</td>\n",
       "      <td>0</td>\n",
       "      <td>0</td>\n",
       "      <td>0</td>\n",
       "      <td>0</td>\n",
       "      <td>0</td>\n",
       "    </tr>\n",
       "  </tbody>\n",
       "</table>\n",
       "<p>5 rows × 60 columns</p>\n",
       "</div>"
      ],
      "text/plain": [
       "              decision  turn  opponent_armor  opponent_attack  opponent_hp  \\\n",
       "gamestate_id                                                                 \n",
       "1304374.0          NaN     5               0                0           23   \n",
       "4383331.0          NaN     9               0                3           16   \n",
       "3544947.0          NaN    16               0                0           16   \n",
       "4282915.0          NaN     3               0                0           30   \n",
       "4327924.0          NaN     5               0                0           30   \n",
       "\n",
       "              opponent_special_skill_used  opponent_weapon_durability  \\\n",
       "gamestate_id                                                            \n",
       "1304374.0                               0                           0   \n",
       "4383331.0                               0                           1   \n",
       "3544947.0                               1                           0   \n",
       "4282915.0                               0                           0   \n",
       "4327924.0                               0                           0   \n",
       "\n",
       "              opponent_crystals_all  opponent_crystals_current  \\\n",
       "gamestate_id                                                     \n",
       "1304374.0                         4                          0   \n",
       "4383331.0                         8                          3   \n",
       "3544947.0                        10                          2   \n",
       "4282915.0                         2                          2   \n",
       "4327924.0                         4                          1   \n",
       "\n",
       "              opponent_deck_count            ...             \\\n",
       "gamestate_id                                 ...              \n",
       "1304374.0                      21            ...              \n",
       "4383331.0                      17            ...              \n",
       "3544947.0                       9            ...              \n",
       "4282915.0                      24            ...              \n",
       "4327924.0                      22            ...              \n",
       "\n",
       "              opponent_hero_card_id_1235  player_hero_card_id_25  \\\n",
       "gamestate_id                                                       \n",
       "1304374.0                              0                       0   \n",
       "4383331.0                              0                       0   \n",
       "3544947.0                              0                       1   \n",
       "4282915.0                              0                       0   \n",
       "4327924.0                              0                       0   \n",
       "\n",
       "              player_hero_card_id_326  player_hero_card_id_390  \\\n",
       "gamestate_id                                                     \n",
       "1304374.0                           0                        0   \n",
       "4383331.0                           0                        0   \n",
       "3544947.0                           0                        0   \n",
       "4282915.0                           0                        0   \n",
       "4327924.0                           1                        0   \n",
       "\n",
       "              player_hero_card_id_494  player_hero_card_id_612  \\\n",
       "gamestate_id                                                     \n",
       "1304374.0                           0                        1   \n",
       "4383331.0                           0                        0   \n",
       "3544947.0                           0                        0   \n",
       "4282915.0                           0                        0   \n",
       "4327924.0                           0                        0   \n",
       "\n",
       "              player_hero_card_id_754  player_hero_card_id_798  \\\n",
       "gamestate_id                                                     \n",
       "1304374.0                           0                        0   \n",
       "4383331.0                           0                        1   \n",
       "3544947.0                           0                        0   \n",
       "4282915.0                           1                        0   \n",
       "4327924.0                           0                        0   \n",
       "\n",
       "              player_hero_card_id_981  player_hero_card_id_1235  \n",
       "gamestate_id                                                     \n",
       "1304374.0                           0                         0  \n",
       "4383331.0                           0                         0  \n",
       "3544947.0                           0                         0  \n",
       "4282915.0                           0                         0  \n",
       "4327924.0                           0                         0  \n",
       "\n",
       "[5 rows x 60 columns]"
      ]
     },
     "execution_count": 31,
     "metadata": {},
     "output_type": "execute_result"
    }
   ],
   "source": [
    "df_data_hot_test.head()"
   ]
  },
  {
   "cell_type": "code",
   "execution_count": 32,
   "metadata": {},
   "outputs": [
    {
     "data": {
      "text/plain": [
       "array([[ 5,  0,  0, ...,  0,  0,  0],\n",
       "       [ 9,  0,  3, ...,  1,  0,  0],\n",
       "       [16,  0,  0, ...,  0,  0,  0],\n",
       "       ..., \n",
       "       [12,  0,  0, ...,  1,  0,  0],\n",
       "       [10,  0,  0, ...,  0,  0,  0],\n",
       "       [15,  0,  0, ...,  0,  1,  0]], dtype=int64)"
      ]
     },
     "execution_count": 32,
     "metadata": {},
     "output_type": "execute_result"
    }
   ],
   "source": [
    "X_test = df_data_hot_test.loc[:,'turn':].as_matrix()\n",
    "X_test"
   ]
  },
  {
   "cell_type": "code",
   "execution_count": 33,
   "metadata": {
    "collapsed": true
   },
   "outputs": [],
   "source": [
    "file = open('deprecated_testLabels.txt', 'r')"
   ]
  },
  {
   "cell_type": "code",
   "execution_count": 34,
   "metadata": {},
   "outputs": [],
   "source": [
    "y_test = []\n",
    "for item in file:\n",
    "    y_test.append(int(item))\n",
    "y_test = np.array(y_test)"
   ]
  },
  {
   "cell_type": "code",
   "execution_count": 35,
   "metadata": {},
   "outputs": [
    {
     "data": {
      "text/plain": [
       "array([1, 1, 1, ..., 0, 1, 0])"
      ]
     },
     "execution_count": 35,
     "metadata": {},
     "output_type": "execute_result"
    }
   ],
   "source": [
    "y_test"
   ]
  },
  {
   "cell_type": "code",
   "execution_count": 36,
   "metadata": {},
   "outputs": [],
   "source": [
    "res = model.predict(X_test)"
   ]
  },
  {
   "cell_type": "code",
   "execution_count": 37,
   "metadata": {},
   "outputs": [
    {
     "name": "stdout",
     "output_type": "stream",
     "text": [
      "             precision    recall  f1-score   support\n",
      "\n",
      "          0       0.70      0.72      0.71    619766\n",
      "          1       0.72      0.69      0.70    630234\n",
      "\n",
      "avg / total       0.71      0.71      0.71   1250000\n",
      "\n"
     ]
    }
   ],
   "source": [
    "from sklearn.metrics import classification_report\n",
    "print classification_report(y_test, res)"
   ]
  },
  {
   "cell_type": "code",
   "execution_count": 38,
   "metadata": {
    "collapsed": true
   },
   "outputs": [],
   "source": [
    "from sklearn.metrics import roc_auc_score"
   ]
  },
  {
   "cell_type": "code",
   "execution_count": 39,
   "metadata": {},
   "outputs": [
    {
     "data": {
      "text/plain": [
       "0.70582856472910982"
      ]
     },
     "execution_count": 39,
     "metadata": {},
     "output_type": "execute_result"
    }
   ],
   "source": [
    "roc_auc_score(y_test, res)"
   ]
  },
  {
   "cell_type": "code",
   "execution_count": null,
   "metadata": {
    "collapsed": true
   },
   "outputs": [],
   "source": []
  }
 ],
 "metadata": {
  "anaconda-cloud": {},
  "kernelspec": {
   "display_name": "Python 2",
   "language": "python",
   "name": "python2"
  },
  "language_info": {
   "codemirror_mode": {
    "name": "ipython",
    "version": 2
   },
   "file_extension": ".py",
   "mimetype": "text/x-python",
   "name": "python",
   "nbconvert_exporter": "python",
   "pygments_lexer": "ipython2",
   "version": "2.7.13"
  },
  "nav_menu": {},
  "toc": {
   "colors": {
    "hover_highlight": "#DAA520",
    "navigate_num": "#000000",
    "navigate_text": "#333333",
    "running_highlight": "#FF0000",
    "selected_highlight": "#FFD700",
    "sidebar_border": "#EEEEEE",
    "wrapper_background": "#FFFFFF"
   },
   "moveMenuLeft": true,
   "nav_menu": {
    "height": "402px",
    "width": "253px"
   },
   "navigate_menu": true,
   "number_sections": false,
   "sideBar": true,
   "threshold": 4,
   "toc_cell": false,
   "toc_section_display": "block",
   "toc_window_display": true,
   "widenNotebook": false
  }
 },
 "nbformat": 4,
 "nbformat_minor": 2
}
